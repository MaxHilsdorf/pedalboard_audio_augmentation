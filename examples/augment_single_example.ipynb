{
 "cells": [
  {
   "attachments": {},
   "cell_type": "markdown",
   "metadata": {},
   "source": [
    "# Augment Single Example\n",
    "This notebook shows you how to augment a single audio example using random pedalboards."
   ]
  },
  {
   "cell_type": "markdown",
   "metadata": {},
   "source": [
    "### Imports"
   ]
  },
  {
   "cell_type": "code",
   "execution_count": 8,
   "metadata": {},
   "outputs": [],
   "source": [
    "from pedalboard import Compressor, PitchShift, HighpassFilter\n",
    "import soundfile as sf\n",
    "import librosa\n",
    "\n",
    "import sys\n",
    "sys.path.append(\"../code/\")\n",
    "from audio_augmentation import roll_pedal, pedal_dict, process_track"
   ]
  },
  {
   "attachments": {},
   "cell_type": "markdown",
   "metadata": {},
   "source": [
    "## Configure Pedal Chain\n",
    "Here, we define an effect chain by specifying the effects we want to use in the correct order. Also, we assign a probability value to each pedal that states how likely the pedal is to be activated for each pedalboard roll. If you want all of your pedals to be applied every time, set all probabilities to 1."
   ]
  },
  {
   "cell_type": "code",
   "execution_count": 1,
   "metadata": {},
   "outputs": [],
   "source": [
    "pedal_config = [(\"compressor\", .3),\n",
    "                (\"chorus\", .3),\n",
    "                (\"reverb\", .3),\n",
    "                (\"distortion\", .3),\n",
    "                (\"lowpassfilter\", .3),\n",
    "                (\"highpassfilter\", .3),\n",
    "                (\"pitchshift\", .3)\n",
    "                ]"
   ]
  },
  {
   "cell_type": "markdown",
   "metadata": {},
   "source": [
    "Next, we define a fallback effect chain. This one is needed in case none of the pedals pass the random roll, i.e. no effect is selected. In this case, the module will use this fallback effect chain as a default."
   ]
  },
  {
   "cell_type": "code",
   "execution_count": 3,
   "metadata": {},
   "outputs": [],
   "source": [
    "from pedalboard import Compressor, PitchShift, HighpassFilter\n",
    "\n",
    "fallback = [HighpassFilter(cutoff_frequency_hz=300),\n",
    "            PitchShift(semitones=1),\n",
    "            Compressor(threshold_db=-10, ratio=1.3)]"
   ]
  },
  {
   "attachments": {},
   "cell_type": "markdown",
   "metadata": {},
   "source": [
    "## Roll Pedalboard\n",
    "Here, we apply the ```roll_pedal``` function to each pedal, making use of the prebuilt parameter ranges in ```pedal_dict```."
   ]
  },
  {
   "cell_type": "code",
   "execution_count": 26,
   "metadata": {},
   "outputs": [
    {
     "name": "stdout",
     "output_type": "stream",
     "text": [
      "[<pedalboard.Compressor threshold_db=-23.9524 ratio=1.91246 attack_ms=1 release_ms=100 at 000001DA12C4D590>, None, None, None, <pedalboard.Lowpass cutoff_frequency_hz=4832 at 000001DA928C9C00>, <pedalboard.Highpass cutoff_frequency_hz=387 at 000001DA928C86C0>, <pedalboard_native.PitchShift object at 0x000001DA950A9530>]\n"
     ]
    }
   ],
   "source": [
    "pedal_rolls = [roll_pedal(pedal=pedal_dict[pedal][\"pedal\"],\n",
    "                          param_dict=pedal_dict[pedal][\"param_dict\"],\n",
    "                          pedal_prob=prob,\n",
    "                          random_seed=None)\n",
    "               for pedal, prob in pedal_config]\n",
    "\n",
    "print(pedal_rolls)"
   ]
  },
  {
   "attachments": {},
   "cell_type": "markdown",
   "metadata": {},
   "source": [
    "## Apply Pedal to Audio\n",
    "Finally, we load an audio file and apply the random pedalboard using ```process_track```."
   ]
  },
  {
   "cell_type": "code",
   "execution_count": 27,
   "metadata": {},
   "outputs": [],
   "source": [
    "audio, sr = librosa.load(\"../audio_data/article_demo_tracks/base_example.mp3\")\n",
    "audio_processed = process_track(\n",
    "  audio, sample_rate=sr,\n",
    "  pedals=pedal_rolls, fallback=fallback\n",
    ")"
   ]
  },
  {
   "cell_type": "code",
   "execution_count": 28,
   "metadata": {},
   "outputs": [],
   "source": [
    "sf.write(\"../audio_data/article_demo_tracks/base_example_random.wav\", audio_processed, sr)"
   ]
  }
 ],
 "metadata": {
  "kernelspec": {
   "display_name": "base",
   "language": "python",
   "name": "python3"
  },
  "language_info": {
   "codemirror_mode": {
    "name": "ipython",
    "version": 3
   },
   "file_extension": ".py",
   "mimetype": "text/x-python",
   "name": "python",
   "nbconvert_exporter": "python",
   "pygments_lexer": "ipython3",
   "version": "3.9.7"
  },
  "orig_nbformat": 4,
  "vscode": {
   "interpreter": {
    "hash": "91bb753b057673435fb8d6f6a083e6c818364728098c7ae050ca3a25357dd754"
   }
  }
 },
 "nbformat": 4,
 "nbformat_minor": 2
}
