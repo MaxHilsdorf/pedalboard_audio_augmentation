{
 "cells": [
  {
   "cell_type": "markdown",
   "metadata": {},
   "source": [
    "# Pedalboard Basic Usage"
   ]
  },
  {
   "cell_type": "markdown",
   "metadata": {},
   "source": [
    "### Load Audio"
   ]
  },
  {
   "cell_type": "code",
   "execution_count": 2,
   "metadata": {},
   "outputs": [
    {
     "name": "stderr",
     "output_type": "stream",
     "text": [
      "e:\\Anaconda\\lib\\site-packages\\librosa\\util\\decorators.py:88: UserWarning: PySoundFile failed. Trying audioread instead.\n",
      "  return f(*args, **kwargs)\n"
     ]
    }
   ],
   "source": [
    "import librosa\n",
    "\n",
    "audio, sr = librosa.load(\"../audio_data/article_demo_tracks/base_example.mp3\")"
   ]
  },
  {
   "cell_type": "markdown",
   "metadata": {},
   "source": [
    "### Apply Single Pedal"
   ]
  },
  {
   "cell_type": "code",
   "execution_count": 6,
   "metadata": {},
   "outputs": [],
   "source": [
    "from pedalboard import Pedalboard, Reverb\n",
    "\n",
    "# Create a pedalboard with one pedal\n",
    "board = Pedalboard()\n",
    "board.append(Reverb()) # instantiate with default parameters\n",
    "\n",
    "# Apply pedal to audio signal\n",
    "audio_reverbed = board(audio, sr)"
   ]
  },
  {
   "cell_type": "code",
   "execution_count": 8,
   "metadata": {},
   "outputs": [],
   "source": [
    "# Export audio (in this case as wav)\n",
    "# For mp3 export, check out the \"pydub\" library\n",
    "import soundfile as sf\n",
    "\n",
    "sf.write(\"../audio_data/article_demo_tracks/base_example_reverbed.wav\", audio_reverbed, sr)"
   ]
  },
  {
   "cell_type": "code",
   "execution_count": 24,
   "metadata": {},
   "outputs": [],
   "source": [
    "# Apply custom reverb settings\n",
    "\n",
    "board = Pedalboard()\n",
    "board.append(Reverb(room_size=0.15, damping=0.8, wet_level=0.9))\n",
    "\n",
    "audio_reverbed2 = board(audio, sr)\n",
    "\n",
    "sf.write(\"../audio_data/article_demo_tracks/base_example_reverbed2.wav\", audio_reverbed2, sr)"
   ]
  },
  {
   "cell_type": "markdown",
   "metadata": {},
   "source": [
    "### Apply Multiple Pedals"
   ]
  },
  {
   "cell_type": "code",
   "execution_count": 27,
   "metadata": {},
   "outputs": [],
   "source": [
    "from pedalboard import Compressor, PitchShift\n",
    "\n",
    "# Create board with multiple pedals\n",
    "board = Pedalboard(\n",
    "    [\n",
    "        PitchShift(semitones=2),\n",
    "        Compressor(threshold_db=-20, ratio=2),\n",
    "        Reverb(wet_level=0.3)\n",
    "    ]\n",
    ")\n",
    "\n",
    "# Apply board\n",
    "audio_multieffect = board(audio, sr)\n",
    "\n",
    "sf.write(\"../audio_data/article_demo_tracks/base_example_multieffect.wav\", audio_multieffect, sr)"
   ]
  }
 ],
 "metadata": {
  "kernelspec": {
   "display_name": "Python 3 (ipykernel)",
   "language": "python",
   "name": "python3"
  },
  "language_info": {
   "codemirror_mode": {
    "name": "ipython",
    "version": 3
   },
   "file_extension": ".py",
   "mimetype": "text/x-python",
   "name": "python",
   "nbconvert_exporter": "python",
   "pygments_lexer": "ipython3",
   "version": "3.9.7"
  },
  "vscode": {
   "interpreter": {
    "hash": "91bb753b057673435fb8d6f6a083e6c818364728098c7ae050ca3a25357dd754"
   }
  }
 },
 "nbformat": 4,
 "nbformat_minor": 4
}
